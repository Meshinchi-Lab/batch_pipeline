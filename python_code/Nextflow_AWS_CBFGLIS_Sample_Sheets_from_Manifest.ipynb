{
 "cells": [
  {
   "cell_type": "markdown",
   "metadata": {},
   "source": [
    "# Create File Manifest for St. Jude Datasets"
   ]
  },
  {
   "cell_type": "markdown",
   "metadata": {},
   "source": [
    "### Jenny Smith \n",
    "### Dec 29, 2020"
   ]
  },
  {
   "cell_type": "code",
   "execution_count": null,
   "metadata": {},
   "outputs": [],
   "source": [
    "import os\n",
    "import pathlib\n",
    "import socket\n",
    "import numpy as np\n",
    "import pandas as pd\n",
    "import re\n",
    "import create_sample_sheet\n",
    "\n",
    "from IPython.core.interactiveshell import InteractiveShell\n",
    "InteractiveShell.ast_node_interactivity = \"all\""
   ]
  },
  {
   "cell_type": "code",
   "execution_count": 2,
   "metadata": {},
   "outputs": [],
   "source": [
    "# ?re.findall"
   ]
  },
  {
   "cell_type": "code",
   "execution_count": 2,
   "metadata": {},
   "outputs": [
    {
     "data": {
      "text/plain": [
       "PosixPath('/Users/work/fast_drive/workingDir/TARGET/AML_TARGET')"
      ]
     },
     "execution_count": 2,
     "metadata": {},
     "output_type": "execute_result"
    }
   ],
   "source": [
    "# https://realpython.com/python-pathlib/\n",
    "host = socket.gethostname()\n",
    "\n",
    "if re.search(\"MacBook|mbp.+fhcrc.org\", host):\n",
    "    TARGET=\"/Users/work/fast_drive/workingDir/TARGET/AML_TARGET/\"\n",
    "\n",
    "elif re.search(\"gizmo|rhino\", host):\n",
    "    TARGET=\"/fh/fast/meshinchi_s/workingDir/TARGET/AML_TARGET/\"\n",
    "\n",
    "TARGET=pathlib.Path(TARGET)\n",
    "TARGET"
   ]
  },
  {
   "cell_type": "code",
   "execution_count": 3,
   "metadata": {},
   "outputs": [
    {
     "data": {
      "text/plain": [
       "PurePosixPath('/Users/work/batch_pipeline/python_code')"
      ]
     },
     "execution_count": 3,
     "metadata": {},
     "output_type": "execute_result"
    },
    {
     "data": {
      "text/plain": [
       "PurePosixPath('/Users/work/batch_pipeline')"
      ]
     },
     "execution_count": 3,
     "metadata": {},
     "output_type": "execute_result"
    }
   ],
   "source": [
    "p = pathlib.PurePosixPath(pathlib.Path().cwd())\n",
    "p\n",
    "# p.parent"
   ]
  },
  {
   "cell_type": "markdown",
   "metadata": {},
   "source": [
    "# 1. Read in the Manifest file"
   ]
  },
  {
   "cell_type": "code",
   "execution_count": 4,
   "metadata": {},
   "outputs": [
    {
     "data": {
      "text/html": [
       "<div>\n",
       "<style scoped>\n",
       "    .dataframe tbody tr th:only-of-type {\n",
       "        vertical-align: middle;\n",
       "    }\n",
       "\n",
       "    .dataframe tbody tr th {\n",
       "        vertical-align: top;\n",
       "    }\n",
       "\n",
       "    .dataframe thead th {\n",
       "        text-align: right;\n",
       "    }\n",
       "</style>\n",
       "<table border=\"1\" class=\"dataframe\">\n",
       "  <thead>\n",
       "    <tr style=\"text-align: right;\">\n",
       "      <th></th>\n",
       "      <th>Sample.ID</th>\n",
       "      <th>Taxon</th>\n",
       "      <th>Plate.Location</th>\n",
       "      <th>Anonymous.Patient.ID</th>\n",
       "      <th>Sex</th>\n",
       "      <th>Anatomic.Site</th>\n",
       "      <th>Tissue.Disease.Status</th>\n",
       "      <th>Tissue.Type</th>\n",
       "      <th>Pathology</th>\n",
       "      <th>Pathology.Occurrence</th>\n",
       "      <th>...</th>\n",
       "      <th>SUBMITTED_SPIKE_IN_SEQUENCE</th>\n",
       "      <th>SUBMITTED_SPIKE_IN_IDENTIFIER</th>\n",
       "      <th>UMI_ENABLED</th>\n",
       "      <th>ALERT_CODE</th>\n",
       "      <th>ALERT_NOTES</th>\n",
       "      <th>Directory</th>\n",
       "      <th>Read_Length</th>\n",
       "      <th>Filename</th>\n",
       "      <th>New_Filename</th>\n",
       "      <th>Filepath</th>\n",
       "    </tr>\n",
       "  </thead>\n",
       "  <tbody>\n",
       "    <tr>\n",
       "      <th>0</th>\n",
       "      <td>TARGET-20-CB34pos-Dayminus1-00-01R</td>\n",
       "      <td>Homo sapiens - human [9606]</td>\n",
       "      <td>A1</td>\n",
       "      <td>TARGET-20-CB34pos-Dayminus1</td>\n",
       "      <td>Unknown</td>\n",
       "      <td>Cord Blood</td>\n",
       "      <td>Normal</td>\n",
       "      <td>NaN</td>\n",
       "      <td>NaN</td>\n",
       "      <td>NaN</td>\n",
       "      <td>...</td>\n",
       "      <td>None</td>\n",
       "      <td>None</td>\n",
       "      <td>False</td>\n",
       "      <td>None</td>\n",
       "      <td>None</td>\n",
       "      <td>IX8717</td>\n",
       "      <td>75bp</td>\n",
       "      <td>HC7J5CCX2_1_CTGATCGT-GCGCATAT_withJunctionsOnG...</td>\n",
       "      <td>TARGET-20-CB34pos-Dayminus1-00-01R_withJunctio...</td>\n",
       "      <td>/fh/scratch/delete90/meshinchi_s/2020.06.10_BC...</td>\n",
       "    </tr>\n",
       "    <tr>\n",
       "      <th>1</th>\n",
       "      <td>TARGET-20-D7-EC-mock1-00-01R</td>\n",
       "      <td>Homo sapiens - human [9606]</td>\n",
       "      <td>B1</td>\n",
       "      <td>TARGET-20-D7-EC-mock1</td>\n",
       "      <td>Unknown</td>\n",
       "      <td>Cord Blood</td>\n",
       "      <td>Normal</td>\n",
       "      <td>NaN</td>\n",
       "      <td>NaN</td>\n",
       "      <td>NaN</td>\n",
       "      <td>...</td>\n",
       "      <td>None</td>\n",
       "      <td>None</td>\n",
       "      <td>False</td>\n",
       "      <td>None</td>\n",
       "      <td>None</td>\n",
       "      <td>IX8717</td>\n",
       "      <td>75bp</td>\n",
       "      <td>HC7J5CCX2_1_ACTCTCGA-CTGTACCA_withJunctionsOnG...</td>\n",
       "      <td>TARGET-20-D7-EC-mock1-00-01R_withJunctionsOnGe...</td>\n",
       "      <td>/fh/scratch/delete90/meshinchi_s/2020.06.10_BC...</td>\n",
       "    </tr>\n",
       "    <tr>\n",
       "      <th>2</th>\n",
       "      <td>TARGET-20-D7-EC-mock2-00-01R</td>\n",
       "      <td>Homo sapiens - human [9606]</td>\n",
       "      <td>C1</td>\n",
       "      <td>TARGET-20-D7-EC-mock2</td>\n",
       "      <td>Unknown</td>\n",
       "      <td>Cord Blood</td>\n",
       "      <td>Normal</td>\n",
       "      <td>NaN</td>\n",
       "      <td>NaN</td>\n",
       "      <td>NaN</td>\n",
       "      <td>...</td>\n",
       "      <td>None</td>\n",
       "      <td>None</td>\n",
       "      <td>False</td>\n",
       "      <td>QC_21</td>\n",
       "      <td>Portion of reads mapping to target species rib...</td>\n",
       "      <td>IX8717</td>\n",
       "      <td>75bp</td>\n",
       "      <td>HC7J5CCX2_1_TGAGCTAG-GAACGGTT_withJunctionsOnG...</td>\n",
       "      <td>TARGET-20-D7-EC-mock2-00-01R_withJunctionsOnGe...</td>\n",
       "      <td>/fh/scratch/delete90/meshinchi_s/2020.06.10_BC...</td>\n",
       "    </tr>\n",
       "    <tr>\n",
       "      <th>3</th>\n",
       "      <td>TARGET-20-D7-EC-mock3-00-01R</td>\n",
       "      <td>Homo sapiens - human [9606]</td>\n",
       "      <td>D1</td>\n",
       "      <td>TARGET-20-D7-EC-mock3</td>\n",
       "      <td>Unknown</td>\n",
       "      <td>Cord Blood</td>\n",
       "      <td>Normal</td>\n",
       "      <td>NaN</td>\n",
       "      <td>NaN</td>\n",
       "      <td>NaN</td>\n",
       "      <td>...</td>\n",
       "      <td>None</td>\n",
       "      <td>None</td>\n",
       "      <td>False</td>\n",
       "      <td>None</td>\n",
       "      <td>None</td>\n",
       "      <td>IX8717</td>\n",
       "      <td>75bp</td>\n",
       "      <td>HC7J5CCX2_1_GAGACGAT-ACCGGTTA_withJunctionsOnG...</td>\n",
       "      <td>TARGET-20-D7-EC-mock3-00-01R_withJunctionsOnGe...</td>\n",
       "      <td>/fh/scratch/delete90/meshinchi_s/2020.06.10_BC...</td>\n",
       "    </tr>\n",
       "    <tr>\n",
       "      <th>4</th>\n",
       "      <td>TARGET-20-D7-EC-GFP1-00-01R</td>\n",
       "      <td>Homo sapiens - human [9606]</td>\n",
       "      <td>E1</td>\n",
       "      <td>TARGET-20-D7-EC-GFP1</td>\n",
       "      <td>Unknown</td>\n",
       "      <td>Cord Blood</td>\n",
       "      <td>Normal</td>\n",
       "      <td>NaN</td>\n",
       "      <td>NaN</td>\n",
       "      <td>NaN</td>\n",
       "      <td>...</td>\n",
       "      <td>None</td>\n",
       "      <td>None</td>\n",
       "      <td>False</td>\n",
       "      <td>QC_21</td>\n",
       "      <td>Portion of reads mapping to target species rib...</td>\n",
       "      <td>IX8718</td>\n",
       "      <td>75bp</td>\n",
       "      <td>HC7J5CCX2_2_CTTGTCGA-CGATGTTC_withJunctionsOnG...</td>\n",
       "      <td>TARGET-20-D7-EC-GFP1-00-01R_withJunctionsOnGen...</td>\n",
       "      <td>/fh/scratch/delete90/meshinchi_s/2020.06.10_BC...</td>\n",
       "    </tr>\n",
       "  </tbody>\n",
       "</table>\n",
       "<p>5 rows × 45 columns</p>\n",
       "</div>"
      ],
      "text/plain": [
       "                            Sample.ID                        Taxon  \\\n",
       "0  TARGET-20-CB34pos-Dayminus1-00-01R  Homo sapiens - human [9606]   \n",
       "1        TARGET-20-D7-EC-mock1-00-01R  Homo sapiens - human [9606]   \n",
       "2        TARGET-20-D7-EC-mock2-00-01R  Homo sapiens - human [9606]   \n",
       "3        TARGET-20-D7-EC-mock3-00-01R  Homo sapiens - human [9606]   \n",
       "4         TARGET-20-D7-EC-GFP1-00-01R  Homo sapiens - human [9606]   \n",
       "\n",
       "  Plate.Location         Anonymous.Patient.ID      Sex Anatomic.Site  \\\n",
       "0             A1  TARGET-20-CB34pos-Dayminus1  Unknown    Cord Blood   \n",
       "1             B1        TARGET-20-D7-EC-mock1  Unknown    Cord Blood   \n",
       "2             C1        TARGET-20-D7-EC-mock2  Unknown    Cord Blood   \n",
       "3             D1        TARGET-20-D7-EC-mock3  Unknown    Cord Blood   \n",
       "4             E1         TARGET-20-D7-EC-GFP1  Unknown    Cord Blood   \n",
       "\n",
       "  Tissue.Disease.Status Tissue.Type Pathology Pathology.Occurrence  ...  \\\n",
       "0                Normal         NaN       NaN                  NaN  ...   \n",
       "1                Normal         NaN       NaN                  NaN  ...   \n",
       "2                Normal         NaN       NaN                  NaN  ...   \n",
       "3                Normal         NaN       NaN                  NaN  ...   \n",
       "4                Normal         NaN       NaN                  NaN  ...   \n",
       "\n",
       "  SUBMITTED_SPIKE_IN_SEQUENCE SUBMITTED_SPIKE_IN_IDENTIFIER UMI_ENABLED  \\\n",
       "0                        None                          None       False   \n",
       "1                        None                          None       False   \n",
       "2                        None                          None       False   \n",
       "3                        None                          None       False   \n",
       "4                        None                          None       False   \n",
       "\n",
       "  ALERT_CODE                                        ALERT_NOTES  Directory  \\\n",
       "0       None                                               None     IX8717   \n",
       "1       None                                               None     IX8717   \n",
       "2      QC_21  Portion of reads mapping to target species rib...     IX8717   \n",
       "3       None                                               None     IX8717   \n",
       "4      QC_21  Portion of reads mapping to target species rib...     IX8718   \n",
       "\n",
       "   Read_Length                                           Filename  \\\n",
       "0         75bp  HC7J5CCX2_1_CTGATCGT-GCGCATAT_withJunctionsOnG...   \n",
       "1         75bp  HC7J5CCX2_1_ACTCTCGA-CTGTACCA_withJunctionsOnG...   \n",
       "2         75bp  HC7J5CCX2_1_TGAGCTAG-GAACGGTT_withJunctionsOnG...   \n",
       "3         75bp  HC7J5CCX2_1_GAGACGAT-ACCGGTTA_withJunctionsOnG...   \n",
       "4         75bp  HC7J5CCX2_2_CTTGTCGA-CGATGTTC_withJunctionsOnG...   \n",
       "\n",
       "                                        New_Filename  \\\n",
       "0  TARGET-20-CB34pos-Dayminus1-00-01R_withJunctio...   \n",
       "1  TARGET-20-D7-EC-mock1-00-01R_withJunctionsOnGe...   \n",
       "2  TARGET-20-D7-EC-mock2-00-01R_withJunctionsOnGe...   \n",
       "3  TARGET-20-D7-EC-mock3-00-01R_withJunctionsOnGe...   \n",
       "4  TARGET-20-D7-EC-GFP1-00-01R_withJunctionsOnGen...   \n",
       "\n",
       "                                            Filepath  \n",
       "0  /fh/scratch/delete90/meshinchi_s/2020.06.10_BC...  \n",
       "1  /fh/scratch/delete90/meshinchi_s/2020.06.10_BC...  \n",
       "2  /fh/scratch/delete90/meshinchi_s/2020.06.10_BC...  \n",
       "3  /fh/scratch/delete90/meshinchi_s/2020.06.10_BC...  \n",
       "4  /fh/scratch/delete90/meshinchi_s/2020.06.10_BC...  \n",
       "\n",
       "[5 rows x 45 columns]"
      ]
     },
     "execution_count": 4,
     "metadata": {},
     "output_type": "execute_result"
    },
    {
     "data": {
      "text/plain": [
       "(50, 45)"
      ]
     },
     "execution_count": 4,
     "metadata": {},
     "output_type": "execute_result"
    }
   ],
   "source": [
    "# [{print(f)}for file in TARGET.joinpath(\"SequencingDataMatrix/\").iterdir()]\n",
    "\n",
    "manifest_file = TARGET.joinpath(\"RNA/mRNAseq/analysis/2017.02.15_CBF-GLIS_DEG/2020.12.23_CBFGLIS_Models/TARGET_AML_Cord_Blood_BAM_file_manifest_12.28.20.csv\")\n",
    "\n",
    "\n",
    "manifest = pd.read_csv(manifest_file, \n",
    "                       engine='python')\n",
    "\n",
    "manifest.head()\n",
    "manifest.shape"
   ]
  },
  {
   "cell_type": "code",
   "execution_count": 5,
   "metadata": {},
   "outputs": [
    {
     "data": {
      "text/plain": [
       "Anatomic.Site\n",
       "Cord Blood       50\n",
       "dtype: int64"
      ]
     },
     "execution_count": 5,
     "metadata": {},
     "output_type": "execute_result"
    }
   ],
   "source": [
    "#table \n",
    "manifest[[\"Anatomic.Site\"]].value_counts()"
   ]
  },
  {
   "cell_type": "code",
   "execution_count": 18,
   "metadata": {},
   "outputs": [
    {
     "data": {
      "text/plain": [
       "True"
      ]
     },
     "execution_count": 18,
     "metadata": {},
     "output_type": "execute_result"
    },
    {
     "data": {
      "text/plain": [
       "'TARGET-20-CB34pos-Dayminus1-00-01R TARGET-20-D7-EC-mock1-00-01R TARGET-20-D7-EC-mock2-00-01R TARGET-20-D7-EC-mock3-00-01R TARGET-20-D7-EC-GFP1-00-01R TARGET-20-D7-EC-GFP2-00-01R TARGET-20-D7-EC-GFP3-00-01R TARGET-20-D7-EC-CBFA2T3_GLIS2-1-00-01R TARGET-20-D7-EC-CBFA2T3_GLIS2-2-00-01R TARGET-20-D7-EC-CBFA2T3_GLIS2-3-00-01R TARGET-20-D7-Myeloid-mock1-00-01R TARGET-20-D7-Myeloid-mock2-00-01R TARGET-20-D7-Myeloid-mock3-00-01R TARGET-20-D7-Myeloid-GFP1-00-01R TARGET-20-D7-Myeloid-GFP2-00-01R TARGET-20-D7-Myeloid-GFP3-00-01R TARGET-20-D7-Myeloid-CBFA2T3_GLIS2-1-00-01R TARGET-20-D7-Myeloid-CBFA2T3_GLIS2-2-00-01R TARGET-20-D7-Myeloid-CBFA2T3_GLIS2-3-00-01R TARGET-20-D45-EC-mock-pool-00-01R TARGET-20-D45-EC-CBFA2T3_GLIS2-1-00-01R TARGET-20-D45-EC-CBFA2T3_GLIS2-2-00-01R TARGET-20-D45-EC-CBFA2T3_GLIS2-3-00-01R TARGET-20-D45-EC-CBFA2T3_GLIS2pool-CD56neg-sort-00-01R TARGET-20-D45-EC-CBFA2T3_GLIS2pool-CD56pos-sort-00-01R TARGET-20-D49-Myeloid-mock1-00-01R TARGET-20-D49-Myeloid-mock2-00-01R TARGET-20-D49-Myeloid-mock3-00-01R TARGET-20-D49-Myeloid-GFP1-00-01R TARGET-20-D49-Myeloid-GFP2-00-01R TARGET-20-D49-Myeloid-GFP3-00-01R TARGET-20-D49-Myeloid-CBFA2T3_GLIS2-1-00-01R TARGET-20-D49-Myeloid-CBFA2T3_GLIS2-2-00-01R TARGET-20-D49-Myeloid-CBFA2T3_GLIS2-3-00-01R TARGET-20-D84-EC-CBFA2T3_GLIS2-1-00-01R TARGET-20-D84-EC-CBFA2T3_GLIS2-2-00-01R TARGET-20-D84-EC-CBFA2T3_GLIS2-3-00-01R TARGET-20-D84-Myeloid-CBFA2T3_GLIS2-1-00-01R TARGET-20-D84-Myeloid-CBFA2T3_GLIS2-2-00-01R TARGET-20-D84-Myeloid-CBFA2T3_GLIS2-3-00-01R TARGET-20-D84-Myeloid-GFP1-00-01R TARGET-20-D84-Myeloid-GFP2-00-01R TARGET-20-D42-EC-CBFA2T3_GLIS2-scbulkleftovers-00-01R TARGET-20-D63-EC-CBFA2T3_GLIS2-scbulkleftovers-00-01R TARGET-20-D87-EC-CBFA2T3_GLIS2-scbulkleftovers-00-01R TARGET-20-ECandCBtransferexp-EConly-ECcells-00-01R TARGET-20-ECandCBtransferexp-ECplusCB114-ECcells-00-01R TARGET-20-ECandCBtransferexp-ECplusCB114-CB114cells-00-01R TARGET-20-ECandCBtransferexp-ECplusTAH002-ECcells-00-01R TARGET-20-ECandCBtransferexp-ECplusTAH002-TAH002CBFcells-00-01R'"
      ]
     },
     "execution_count": 18,
     "metadata": {},
     "output_type": "execute_result"
    }
   ],
   "source": [
    "# dir(manifest[[\"Sample.ID\"]]) Needed single brackets. \n",
    "# type(manifest[\"Sample.ID\"])\n",
    "\n",
    "samples = manifest[\"Sample.ID\"].to_list()\n",
    "len(samples) == len(set(samples)) #check for duplicates\n",
    "samples = \" \".join(samples)\n",
    "\n",
    "# type(samples) #string\n",
    "# samples"
   ]
  },
  {
   "cell_type": "markdown",
   "metadata": {},
   "source": [
    "# 2. Run the Sample Sheet Script"
   ]
  },
  {
   "cell_type": "code",
   "execution_count": 21,
   "metadata": {},
   "outputs": [
    {
     "data": {
      "text/plain": [
       "'/Users/work/batch_pipeline/sample_sheets/CBFGLIS_sample_sheet.txt'"
      ]
     },
     "execution_count": 21,
     "metadata": {},
     "output_type": "execute_result"
    }
   ],
   "source": [
    "bucket = \"fh-pi-meshinchi-s-eco-public\"\n",
    "prefix = \"TARGET_AML/RNAseq_Illumina_Data/BAM\"\n",
    "filename = \"CBFGLIS_sample_sheet.txt\"\n",
    "\n",
    "\n",
    "fname = str(p.parent.joinpath(\"sample_sheets/\",filename))\n",
    "fname"
   ]
  },
  {
   "cell_type": "code",
   "execution_count": 20,
   "metadata": {},
   "outputs": [
    {
     "data": {
      "text/plain": [
       "\u001b[0;31mSignature:\u001b[0m\n",
       "\u001b[0mcreate_sample_sheet\u001b[0m\u001b[0;34m.\u001b[0m\u001b[0mcreate_sample_sheet\u001b[0m\u001b[0;34m(\u001b[0m\u001b[0;34m\u001b[0m\n",
       "\u001b[0;34m\u001b[0m    \u001b[0mbucket_name\u001b[0m\u001b[0;34m,\u001b[0m\u001b[0;34m\u001b[0m\n",
       "\u001b[0;34m\u001b[0m    \u001b[0mprefix_name\u001b[0m\u001b[0;34m,\u001b[0m\u001b[0;34m\u001b[0m\n",
       "\u001b[0;34m\u001b[0m    \u001b[0mfiletype\u001b[0m\u001b[0;34m=\u001b[0m\u001b[0;34m'fastq'\u001b[0m\u001b[0;34m,\u001b[0m\u001b[0;34m\u001b[0m\n",
       "\u001b[0;34m\u001b[0m    \u001b[0msamples\u001b[0m\u001b[0;34m=\u001b[0m\u001b[0;34m''\u001b[0m\u001b[0;34m,\u001b[0m\u001b[0;34m\u001b[0m\n",
       "\u001b[0;34m\u001b[0m    \u001b[0mfilename\u001b[0m\u001b[0;34m=\u001b[0m\u001b[0;34m'sample_sheet.txt'\u001b[0m\u001b[0;34m,\u001b[0m\u001b[0;34m\u001b[0m\n",
       "\u001b[0;34m\u001b[0m    \u001b[0mwrite\u001b[0m\u001b[0;34m=\u001b[0m\u001b[0;32mTrue\u001b[0m\u001b[0;34m,\u001b[0m\u001b[0;34m\u001b[0m\n",
       "\u001b[0;34m\u001b[0m\u001b[0;34m)\u001b[0m\u001b[0;34m\u001b[0m\u001b[0;34m\u001b[0m\u001b[0m\n",
       "\u001b[0;31mDocstring:\u001b[0m\n",
       "A function to query an S3 bucket, list its objects, and filter the files by sample IDs. \n",
       "\n",
       "bucket_name: is a string. Example: \"fh-pi-my-bucket\"\n",
       "prefix_name: is a string. Need trailing slash. Example: \"SR/myfiles/\"\n",
       "filetype: is a srtring. One of \"fastq\" or \"bam\"\n",
       "\u001b[0;31mFile:\u001b[0m      ~/batch_pipeline/python_code/create_sample_sheet.py\n",
       "\u001b[0;31mType:\u001b[0m      function\n"
      ]
     },
     "metadata": {},
     "output_type": "display_data"
    }
   ],
   "source": [
    "?create_sample_sheet.create_sample_sheet"
   ]
  },
  {
   "cell_type": "code",
   "execution_count": 22,
   "metadata": {},
   "outputs": [
    {
     "name": "stdout",
     "output_type": "stream",
     "text": [
      "There are 0 bam files.\n",
      "Finished writing 0 records to file: /Users/work/batch_pipeline/sample_sheets/CBFGLIS_sample_sheet.txt\n"
     ]
    }
   ],
   "source": [
    "#There are \n",
    "create_sample_sheet.create_sample_sheet(bucket_name=bucket,\n",
    "                                        prefix_name=prefix,\n",
    "                                        filetype=\"bam\",\n",
    "                                        samples=samples, \n",
    "                                        filename=fname)\n"
   ]
  }
 ],
 "metadata": {
  "kernelspec": {
   "display_name": "Python 3",
   "language": "python",
   "name": "python3"
  },
  "language_info": {
   "codemirror_mode": {
    "name": "ipython",
    "version": 3
   },
   "file_extension": ".py",
   "mimetype": "text/x-python",
   "name": "python",
   "nbconvert_exporter": "python",
   "pygments_lexer": "ipython3",
   "version": "3.7.9"
  }
 },
 "nbformat": 4,
 "nbformat_minor": 4
}
