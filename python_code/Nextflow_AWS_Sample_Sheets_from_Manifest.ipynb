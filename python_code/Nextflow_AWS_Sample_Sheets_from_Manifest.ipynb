{
 "cells": [
  {
   "cell_type": "markdown",
   "metadata": {},
   "source": [
    "# Create A Sample Manifest File for STAR-Fusion NF Workflow"
   ]
  },
  {
   "cell_type": "markdown",
   "metadata": {},
   "source": [
    "### Jenny Smith \n",
    "### Sept 20, 2020"
   ]
  },
  {
   "cell_type": "code",
   "execution_count": 44,
   "metadata": {},
   "outputs": [],
   "source": [
    "import os\n",
    "import pathlib\n",
    "import socket\n",
    "import numpy as np\n",
    "import pandas as pd\n",
    "import re\n",
    "import boto3\n",
    "import botocore\n",
    "import create_sample_sheet\n",
    "\n",
    "\n",
    "from IPython.core.interactiveshell import InteractiveShell\n",
    "InteractiveShell.ast_node_interactivity = \"all\""
   ]
  },
  {
   "cell_type": "code",
   "execution_count": 2,
   "metadata": {},
   "outputs": [
    {
     "data": {
      "text/plain": [
       "PosixPath('/Users/work/fast_drive/workingDir/TARGET/AML_TARGET')"
      ]
     },
     "execution_count": 2,
     "metadata": {},
     "output_type": "execute_result"
    }
   ],
   "source": [
    "# https://realpython.com/python-pathlib/\n",
    "host = socket.gethostname()\n",
    "if re.search(\"MacBook|mbp.+fhcrc.org\", host):\n",
    "    TARGET=\"/Users/work/fast_drive/workingDir/TARGET/AML_TARGET/\"\n",
    "\n",
    "elif re.search(\"gizmo|rhino\", host):\n",
    "    TARGET=\"/fh/fast/meshinchi_s/workingDir/TARGET/AML_TARGET/\"\n",
    "\n",
    "TARGET=pathlib.Path(TARGET)\n",
    "TARGET"
   ]
  },
  {
   "cell_type": "code",
   "execution_count": 3,
   "metadata": {},
   "outputs": [
    {
     "data": {
      "text/plain": [
       "PosixPath('/Users/work/STAR-fusion-NF/python_code')"
      ]
     },
     "execution_count": 3,
     "metadata": {},
     "output_type": "execute_result"
    }
   ],
   "source": [
    "pathlib.Path().cwd()"
   ]
  },
  {
   "cell_type": "markdown",
   "metadata": {},
   "source": [
    "# 1. Read in the Manifest file"
   ]
  },
  {
   "cell_type": "code",
   "execution_count": 4,
   "metadata": {},
   "outputs": [
    {
     "data": {
      "text/html": [
       "<div>\n",
       "<style scoped>\n",
       "    .dataframe tbody tr th:only-of-type {\n",
       "        vertical-align: middle;\n",
       "    }\n",
       "\n",
       "    .dataframe tbody tr th {\n",
       "        vertical-align: top;\n",
       "    }\n",
       "\n",
       "    .dataframe thead th {\n",
       "        text-align: right;\n",
       "    }\n",
       "</style>\n",
       "<table border=\"1\" class=\"dataframe\">\n",
       "  <thead>\n",
       "    <tr style=\"text-align: right;\">\n",
       "      <th></th>\n",
       "      <th>Unnamed: 0</th>\n",
       "      <th>Sample</th>\n",
       "      <th>Final_Patient_ID</th>\n",
       "      <th>PATIENT_ID_Original</th>\n",
       "      <th>USI</th>\n",
       "      <th>Reg.</th>\n",
       "      <th>Protocol</th>\n",
       "      <th>AML_Subtype</th>\n",
       "      <th>Group</th>\n",
       "      <th>Batch</th>\n",
       "      <th>Library</th>\n",
       "      <th>Time_point</th>\n",
       "      <th>Tissue</th>\n",
       "      <th>Protocol2</th>\n",
       "      <th>Primary.Fusion.CNV</th>\n",
       "      <th>Additional.Fusions.CNV</th>\n",
       "    </tr>\n",
       "  </thead>\n",
       "  <tbody>\n",
       "    <tr>\n",
       "      <th>0</th>\n",
       "      <td>1</td>\n",
       "      <td>Kasumi.AZA.D11.03A.01R</td>\n",
       "      <td>Kasumi-AZA-D11-03A-01R</td>\n",
       "      <td>Kasumi-AZA-D11-03A-01R</td>\n",
       "      <td>Kasumi</td>\n",
       "      <td>NaN</td>\n",
       "      <td>CellLine</td>\n",
       "      <td>CellLine</td>\n",
       "      <td>CellLine</td>\n",
       "      <td>dx1</td>\n",
       "      <td>A75511</td>\n",
       "      <td>CellLine</td>\n",
       "      <td>CellLine</td>\n",
       "      <td>NaN</td>\n",
       "      <td>NaN</td>\n",
       "      <td>NaN</td>\n",
       "    </tr>\n",
       "    <tr>\n",
       "      <th>1</th>\n",
       "      <td>2</td>\n",
       "      <td>Kasumi.AZA.D5.03A.01R</td>\n",
       "      <td>Kasumi-AZA-D5-03A-01R</td>\n",
       "      <td>Kasumi-AZA-D5-03A-01R</td>\n",
       "      <td>Kasumi</td>\n",
       "      <td>NaN</td>\n",
       "      <td>CellLine</td>\n",
       "      <td>CellLine</td>\n",
       "      <td>CellLine</td>\n",
       "      <td>dx1</td>\n",
       "      <td>A75509</td>\n",
       "      <td>CellLine</td>\n",
       "      <td>CellLine</td>\n",
       "      <td>NaN</td>\n",
       "      <td>NaN</td>\n",
       "      <td>NaN</td>\n",
       "    </tr>\n",
       "    <tr>\n",
       "      <th>2</th>\n",
       "      <td>3</td>\n",
       "      <td>Kasumi.D1.03A.01R</td>\n",
       "      <td>Kasumi-D1-03A-01R</td>\n",
       "      <td>Kasumi-D1-03A-01R</td>\n",
       "      <td>Kasumi</td>\n",
       "      <td>NaN</td>\n",
       "      <td>CellLine</td>\n",
       "      <td>CellLine</td>\n",
       "      <td>CellLine</td>\n",
       "      <td>dx1</td>\n",
       "      <td>A75507</td>\n",
       "      <td>CellLine</td>\n",
       "      <td>CellLine</td>\n",
       "      <td>NaN</td>\n",
       "      <td>NaN</td>\n",
       "      <td>NaN</td>\n",
       "    </tr>\n",
       "    <tr>\n",
       "      <th>3</th>\n",
       "      <td>4</td>\n",
       "      <td>MV4.11.AZA.D11.03A.01R</td>\n",
       "      <td>MV4-11-AZA-D11-03A-01R</td>\n",
       "      <td>MV4-11-AZA-D11-03A-01R</td>\n",
       "      <td>MV4</td>\n",
       "      <td>NaN</td>\n",
       "      <td>CellLine</td>\n",
       "      <td>CellLine</td>\n",
       "      <td>CellLine</td>\n",
       "      <td>dx1</td>\n",
       "      <td>A75512</td>\n",
       "      <td>CellLine</td>\n",
       "      <td>CellLine</td>\n",
       "      <td>NaN</td>\n",
       "      <td>NaN</td>\n",
       "      <td>NaN</td>\n",
       "    </tr>\n",
       "    <tr>\n",
       "      <th>4</th>\n",
       "      <td>5</td>\n",
       "      <td>MV4.11.AZA.D5.03A.01R</td>\n",
       "      <td>MV4-11-AZA-D5-03A-01R</td>\n",
       "      <td>MV4-11-AZA-D5-03A-01R</td>\n",
       "      <td>MV4</td>\n",
       "      <td>NaN</td>\n",
       "      <td>CellLine</td>\n",
       "      <td>CellLine</td>\n",
       "      <td>CellLine</td>\n",
       "      <td>dx1</td>\n",
       "      <td>A75510</td>\n",
       "      <td>CellLine</td>\n",
       "      <td>CellLine</td>\n",
       "      <td>NaN</td>\n",
       "      <td>NaN</td>\n",
       "      <td>NaN</td>\n",
       "    </tr>\n",
       "  </tbody>\n",
       "</table>\n",
       "</div>"
      ],
      "text/plain": [
       "   Unnamed: 0                  Sample        Final_Patient_ID  \\\n",
       "0           1  Kasumi.AZA.D11.03A.01R  Kasumi-AZA-D11-03A-01R   \n",
       "1           2   Kasumi.AZA.D5.03A.01R   Kasumi-AZA-D5-03A-01R   \n",
       "2           3       Kasumi.D1.03A.01R       Kasumi-D1-03A-01R   \n",
       "3           4  MV4.11.AZA.D11.03A.01R  MV4-11-AZA-D11-03A-01R   \n",
       "4           5   MV4.11.AZA.D5.03A.01R   MV4-11-AZA-D5-03A-01R   \n",
       "\n",
       "      PATIENT_ID_Original     USI  Reg.  Protocol AML_Subtype     Group Batch  \\\n",
       "0  Kasumi-AZA-D11-03A-01R  Kasumi   NaN  CellLine    CellLine  CellLine   dx1   \n",
       "1   Kasumi-AZA-D5-03A-01R  Kasumi   NaN  CellLine    CellLine  CellLine   dx1   \n",
       "2       Kasumi-D1-03A-01R  Kasumi   NaN  CellLine    CellLine  CellLine   dx1   \n",
       "3  MV4-11-AZA-D11-03A-01R     MV4   NaN  CellLine    CellLine  CellLine   dx1   \n",
       "4   MV4-11-AZA-D5-03A-01R     MV4   NaN  CellLine    CellLine  CellLine   dx1   \n",
       "\n",
       "  Library Time_point    Tissue Protocol2 Primary.Fusion.CNV  \\\n",
       "0  A75511   CellLine  CellLine       NaN                NaN   \n",
       "1  A75509   CellLine  CellLine       NaN                NaN   \n",
       "2  A75507   CellLine  CellLine       NaN                NaN   \n",
       "3  A75512   CellLine  CellLine       NaN                NaN   \n",
       "4  A75510   CellLine  CellLine       NaN                NaN   \n",
       "\n",
       "  Additional.Fusions.CNV  \n",
       "0                    NaN  \n",
       "1                    NaN  \n",
       "2                    NaN  \n",
       "3                    NaN  \n",
       "4                    NaN  "
      ]
     },
     "execution_count": 4,
     "metadata": {},
     "output_type": "execute_result"
    },
    {
     "data": {
      "text/plain": [
       "(2346, 16)"
      ]
     },
     "execution_count": 4,
     "metadata": {},
     "output_type": "execute_result"
    }
   ],
   "source": [
    "# [{print(f)}for file in TARGET.joinpath(\"SequencingDataMatrix/\").iterdir()]\n",
    "\n",
    "manifest_file = TARGET.joinpath(\"SequencingDataMatrix/TARGET_AML_Ribodepleted_Master_Manifest_8.5.20.csv\")\n",
    "\n",
    "\n",
    "manifest = pd.read_csv(manifest_file, \n",
    "                       engine='python')\n",
    "\n",
    "manifest.head()\n",
    "manifest.shape\n"
   ]
  },
  {
   "cell_type": "code",
   "execution_count": 86,
   "metadata": {},
   "outputs": [
    {
     "data": {
      "text/plain": [
       "True"
      ]
     },
     "execution_count": 86,
     "metadata": {},
     "output_type": "execute_result"
    }
   ],
   "source": [
    "type(samples_cbf) is str"
   ]
  },
  {
   "cell_type": "code",
   "execution_count": 5,
   "metadata": {},
   "outputs": [
    {
     "data": {
      "text/plain": [
       "dx1      1117\n",
       "dx2       457\n",
       "rlps2     302\n",
       "ds1       228\n",
       "rlps1     198\n",
       "rlps3      36\n",
       "rlps4       7\n",
       "Name: Batch, dtype: int64"
      ]
     },
     "execution_count": 5,
     "metadata": {},
     "output_type": "execute_result"
    }
   ],
   "source": [
    "#table for the different Batchs \n",
    "manifest.Batch.value_counts()"
   ]
  },
  {
   "cell_type": "code",
   "execution_count": 6,
   "metadata": {},
   "outputs": [
    {
     "data": {
      "text/plain": [
       "(2777, 16)"
      ]
     },
     "execution_count": 6,
     "metadata": {},
     "output_type": "execute_result"
    }
   ],
   "source": [
    "polyA_RBD_file = TARGET.joinpath(\"SequencingDataMatrix/TARGET_AML_RBD_PolyA_RNAseq_AWS_S3_Fastq_Manifest_8.5.20.csv\")\n",
    "polyA_RBD_manifest = pd.read_csv(polyA_RBD_file)\n",
    "\n",
    "\n",
    "# polyA_RBD_manifest.head()\n",
    "polyA_RBD_manifest.shape"
   ]
  },
  {
   "cell_type": "markdown",
   "metadata": {},
   "source": [
    "# 2. Subset for Required Samples"
   ]
  },
  {
   "cell_type": "code",
   "execution_count": 7,
   "metadata": {},
   "outputs": [],
   "source": [
    "manifest.fillna(value=\"\",inplace=True) #Stella is an NA"
   ]
  },
  {
   "cell_type": "code",
   "execution_count": 8,
   "metadata": {},
   "outputs": [
    {
     "data": {
      "text/plain": [
       "(228, 16)"
      ]
     },
     "execution_count": 8,
     "metadata": {},
     "output_type": "execute_result"
    }
   ],
   "source": [
    "ds_aml = manifest[manifest.Batch.str.contains(\"ds\")]\n",
    "\n",
    "# ds_aml.head()\n",
    "ds_aml.shape #228 rows"
   ]
  },
  {
   "cell_type": "code",
   "execution_count": 9,
   "metadata": {},
   "outputs": [
    {
     "data": {
      "text/plain": [
       "RUNX1-RUNX1T1    215\n",
       "CBFB-MYH11       185\n",
       "Name: AML_Subtype, dtype: int64"
      ]
     },
     "execution_count": 9,
     "metadata": {},
     "output_type": "execute_result"
    }
   ],
   "source": [
    "# & cbf_aml.Time_point.str.contains(\"diagnostic\")\n",
    "cbf_aml = polyA_RBD_manifest[polyA_RBD_manifest.AML_Subtype.str.contains(\"CBFB-MYH11|RUNX1-RUNX1T1\") & polyA_RBD_manifest.Time_point.str.contains(\"diagnostic\")]\n",
    "\n",
    "# cbf_aml.head()\n",
    "# cbf_aml.shape\n",
    "cbf_aml.AML_Subtype.value_counts()\n",
    "# cbf_aml.to_csv(\"CBFB_MYH11_RUNX1_RUNX1T1_Fastqs_Manifest.csv\")"
   ]
  },
  {
   "cell_type": "code",
   "execution_count": 10,
   "metadata": {},
   "outputs": [
    {
     "data": {
      "text/plain": [
       "diagnostic    400\n",
       "Name: Time_point, dtype: int64"
      ]
     },
     "execution_count": 10,
     "metadata": {},
     "output_type": "execute_result"
    },
    {
     "data": {
      "text/plain": [
       "AML    400\n",
       "Name: Group, dtype: int64"
      ]
     },
     "execution_count": 10,
     "metadata": {},
     "output_type": "execute_result"
    },
    {
     "data": {
      "text/plain": [
       "RBS      283\n",
       "PolyA    117\n",
       "Name: Lib_Prep, dtype: int64"
      ]
     },
     "execution_count": 10,
     "metadata": {},
     "output_type": "execute_result"
    }
   ],
   "source": [
    "cbf_aml.Time_point.value_counts()\n",
    "cbf_aml.Group.value_counts()\n",
    "cbf_aml.Lib_Prep.value_counts()"
   ]
  },
  {
   "cell_type": "markdown",
   "metadata": {},
   "source": [
    "# 3. Run the Sample Sheet Script"
   ]
  },
  {
   "cell_type": "code",
   "execution_count": 11,
   "metadata": {},
   "outputs": [],
   "source": [
    "bucket=\"fh-pi-meshinchi-s\"\n",
    "prefix=\"SR/picard_fq2/\"\n",
    "# ?create_sample_sheet.create_sample_sheet"
   ]
  },
  {
   "cell_type": "code",
   "execution_count": null,
   "metadata": {},
   "outputs": [],
   "source": [
    "samples = \" \".join(ds_aml.Sample.tolist())\n",
    "# type(samples)\n",
    "\n",
    "create_sample_sheet.create_sample_sheet(bucket_name=bucket, prefix_name=prefix, samples=samples, filename=\"test_sheet.txt\")"
   ]
  },
  {
   "cell_type": "markdown",
   "metadata": {},
   "source": [
    "# 4. Create Presigned URLs"
   ]
  },
  {
   "cell_type": "code",
   "execution_count": 12,
   "metadata": {},
   "outputs": [],
   "source": [
    "# creds_path = pathlib.Path(\"~/.aws/credentials\").expanduser()\n",
    "# dir(creds_path)\n",
    "# creds_path\n",
    "\n",
    "# # [print(f) for f in creds_path.iterdir()]\n",
    "# os.environ['AWS_SHARED_CREDENTIALS_FILE'] = str(creds_path)"
   ]
  },
  {
   "cell_type": "code",
   "execution_count": 12,
   "metadata": {},
   "outputs": [
    {
     "name": "stdout",
     "output_type": "stream",
     "text": [
      "Account is: {'UserId': 'AIDA3AANZ4DLNKFSCPE5D', 'Account': '755943203030', 'Arn': 'arn:aws:iam::755943203030:user/terraform/jlsmith3', 'ResponseMetadata': {'RequestId': '286c8115-6261-46a5-b496-700178bfb323', 'HTTPStatusCode': 200, 'HTTPHeaders': {'x-amzn-requestid': '286c8115-6261-46a5-b496-700178bfb323', 'content-type': 'text/xml', 'content-length': '415', 'date': 'Fri, 25 Sep 2020 23:11:06 GMT'}, 'RetryAttempts': 0}}\n"
     ]
    }
   ],
   "source": [
    "accountinfo = boto3.client('sts').get_caller_identity()\n",
    "print(f\"Account is: {accountinfo}\")"
   ]
  },
  {
   "cell_type": "code",
   "execution_count": 28,
   "metadata": {},
   "outputs": [
    {
     "data": {
      "text/plain": [
       "'~/.aws/credentials'"
      ]
     },
     "execution_count": 28,
     "metadata": {},
     "output_type": "execute_result"
    },
    {
     "data": {
      "text/plain": [
       "'~/.aws/config'"
      ]
     },
     "execution_count": 28,
     "metadata": {},
     "output_type": "execute_result"
    }
   ],
   "source": [
    "# type(os.environ)\n",
    "# for k in os.environ.keys():\n",
    "#     print(k)\n",
    "\n",
    "# type(os.getenv(\"AWS_SHARED_CREDENTIALS_FILE\"))\n",
    "# type(os.getenv(\"AWS_CONFIG_FILE\"))\n",
    "\n",
    "if not os.getenv(\"AWS_SHARED_CREDENTIALS_FILE\") is None:\n",
    "    os.getenv(\"AWS_SHARED_CREDENTIALS_FILE\")\n",
    "if not os.getenv(\"AWS_CONFIG_FILE\") is None:\n",
    "    os.getenv(\"AWS_CONFIG_FILE\")"
   ]
  },
  {
   "cell_type": "code",
   "execution_count": 16,
   "metadata": {},
   "outputs": [
    {
     "name": "stdout",
     "output_type": "stream",
     "text": [
      "There are 400 Fastq files.\n"
     ]
    }
   ],
   "source": [
    "samples_cbf = \" \".join(cbf_aml.fastq_sample_filename.tolist())\n",
    "forURLs = create_sample_sheet.create_sample_sheet(bucket_name=bucket, prefix_name=prefix, samples=samples_cbf, write=False)"
   ]
  },
  {
   "cell_type": "code",
   "execution_count": 21,
   "metadata": {},
   "outputs": [
    {
     "data": {
      "text/plain": [
       "20"
      ]
     },
     "execution_count": 21,
     "metadata": {},
     "output_type": "execute_result"
    }
   ],
   "source": [
    "\n",
    "#Not working in Jupyter lab. works on command line and ipython command line. exact same code. \n",
    "outfile=\"CBFB_MYH11_RUNX1_RUNX1T1_presigned_URLs.txt\"\n",
    "responses = []\n",
    "for R1, R2 in zip(forURLs.R1,forURLs.R2):\n",
    "    end = len(R1)\n",
    "    start = len(bucket) + 6\n",
    "    expiration = 604800\n",
    "    object_1 = R1[start:end]\n",
    "    object_2 = R2[start:end]\n",
    "    response1 = create_sample_sheet.create_presigned_url(bucket_name=bucket,\n",
    "                                             object_name=object_1,\n",
    "                                             expiration=expiration)\n",
    "    response2 = create_sample_sheet.create_presigned_url(bucket_name=bucket,\n",
    "                                             object_name=object_2,\n",
    "                                             expiration=expiration)\n",
    "    responses.append(response1)\n",
    "    responses.append(response2)\n",
    "\n",
    "len(responses)\n",
    "# with open(outfile, \"w\") as outfile:\n",
    "#     outfile.write(\"\\n\".join(responses))"
   ]
  },
  {
   "cell_type": "raw",
   "metadata": {},
   "source": [
    "#Example for one file\n",
    "r1 = forURLs.R1.tolist()[1]\n",
    "end = len(r1)\n",
    "start = len(bucket) + 6\n",
    "\n",
    "expiration = 604800\n",
    "r1 = r1[start:end]\n",
    "# bucket\n",
    "# r1\n",
    "# expiration\n",
    "\n",
    "# Generate a presigned URL for the S3 object\n",
    "s3_client = boto3.client('s3', region_name='us-west-2')\n",
    "s3_client\n",
    "response = s3_client.generate_presigned_url('get_object',Params={'Bucket': bucket,'Key': r1}, ExpiresIn=expiration)\n",
    "response"
   ]
  }
 ],
 "metadata": {
  "kernelspec": {
   "display_name": "Python 3",
   "language": "python",
   "name": "python3"
  },
  "language_info": {
   "codemirror_mode": {
    "name": "ipython",
    "version": 3
   },
   "file_extension": ".py",
   "mimetype": "text/x-python",
   "name": "python",
   "nbconvert_exporter": "python",
   "pygments_lexer": "ipython3",
   "version": "3.7.9"
  }
 },
 "nbformat": 4,
 "nbformat_minor": 4
}
