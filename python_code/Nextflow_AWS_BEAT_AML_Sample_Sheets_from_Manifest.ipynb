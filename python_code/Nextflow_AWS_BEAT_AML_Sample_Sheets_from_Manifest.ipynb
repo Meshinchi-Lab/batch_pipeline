{
 "cells": [
  {
   "cell_type": "markdown",
   "metadata": {},
   "source": [
    "# Create A Sample Manifest File for STAR-Fusion NF Workflow"
   ]
  },
  {
   "cell_type": "markdown",
   "metadata": {},
   "source": [
    "### Jenny Smith \n",
    "### Oct 14, 2020"
   ]
  },
  {
   "cell_type": "code",
   "execution_count": 1,
   "metadata": {},
   "outputs": [],
   "source": [
    "import os\n",
    "import pathlib\n",
    "import socket\n",
    "import numpy as np\n",
    "import pandas as pd\n",
    "import re\n",
    "import boto3\n",
    "import botocore\n",
    "import create_sample_sheet\n",
    "\n",
    "\n",
    "from IPython.core.interactiveshell import InteractiveShell\n",
    "InteractiveShell.ast_node_interactivity = \"all\""
   ]
  },
  {
   "cell_type": "code",
   "execution_count": 2,
   "metadata": {},
   "outputs": [],
   "source": [
    "# https://realpython.com/python-pathlib/\n",
    "host = socket.gethostname()\n",
    "TARGET=\"workingDir/TARGET/AML_TARGET\"\n",
    "BEAT_AML=\"workingDir/BEAT_AML\"\n",
    "\n",
    "if re.search(\"MacBook|mbp.+fhcrc.org\", host):\n",
    "    ROOT_DIR=pathlib.Path(\"/Users/work/fast_drive/\")\n",
    "\n",
    "elif re.search(\"gizmo|rhino\", host):\n",
    "    ROOT_DIR=pathlib.Path(\"/fh/fast/meshinchi_s/\")\n",
    "\n",
    "TARGET=ROOT_DIR.joinpath(TARGET)\n",
    "BEAT_AML=ROOT_DIR.joinpath(BEAT_AML)"
   ]
  },
  {
   "cell_type": "code",
   "execution_count": 3,
   "metadata": {},
   "outputs": [
    {
     "data": {
      "text/plain": [
       "PosixPath('/Users/work/batch_pipeline/python_code')"
      ]
     },
     "execution_count": 3,
     "metadata": {},
     "output_type": "execute_result"
    }
   ],
   "source": [
    "pathlib.Path().cwd()"
   ]
  },
  {
   "cell_type": "markdown",
   "metadata": {},
   "source": [
    "# 1. Read in the Manifest file"
   ]
  },
  {
   "cell_type": "code",
   "execution_count": 4,
   "metadata": {},
   "outputs": [
    {
     "data": {
      "text/html": [
       "<div>\n",
       "<style scoped>\n",
       "    .dataframe tbody tr th:only-of-type {\n",
       "        vertical-align: middle;\n",
       "    }\n",
       "\n",
       "    .dataframe tbody tr th {\n",
       "        vertical-align: top;\n",
       "    }\n",
       "\n",
       "    .dataframe thead th {\n",
       "        text-align: right;\n",
       "    }\n",
       "</style>\n",
       "<table border=\"1\" class=\"dataframe\">\n",
       "  <thead>\n",
       "    <tr style=\"text-align: right;\">\n",
       "      <th></th>\n",
       "      <th>PatientID</th>\n",
       "      <th>PatientId</th>\n",
       "      <th>LLS_PatientID</th>\n",
       "      <th>LLS_SampleID</th>\n",
       "      <th>SampleID</th>\n",
       "      <th>entity_submitter_id</th>\n",
       "      <th>file_name</th>\n",
       "      <th>OverallSurvival_VIZOME</th>\n",
       "      <th>VitalStatus_VIZOME</th>\n",
       "      <th>vitalStatus_SuppTable</th>\n",
       "      <th>...</th>\n",
       "      <th>STAG2_SuppTable</th>\n",
       "      <th>STAT3_SuppTable</th>\n",
       "      <th>SUZ12_SuppTable</th>\n",
       "      <th>TCL1A_SuppTable</th>\n",
       "      <th>TET2_SuppTable</th>\n",
       "      <th>TP53_SuppTable</th>\n",
       "      <th>TYK2_SuppTable</th>\n",
       "      <th>U2AF1_SuppTable</th>\n",
       "      <th>WT1_SuppTable</th>\n",
       "      <th>ZRSR2_SuppTable</th>\n",
       "    </tr>\n",
       "  </thead>\n",
       "  <tbody>\n",
       "    <tr>\n",
       "      <th>0</th>\n",
       "      <td>2262</td>\n",
       "      <td>1981</td>\n",
       "      <td>1981</td>\n",
       "      <td>15-00147</td>\n",
       "      <td>BA3025</td>\n",
       "      <td>aq-BA3025R</td>\n",
       "      <td>90e79303-22a7-4c03-ad58-a41af7af237e.rna_seq.g...</td>\n",
       "      <td>843</td>\n",
       "      <td>Dead</td>\n",
       "      <td>Dead</td>\n",
       "      <td>...</td>\n",
       "      <td></td>\n",
       "      <td></td>\n",
       "      <td></td>\n",
       "      <td></td>\n",
       "      <td></td>\n",
       "      <td></td>\n",
       "      <td></td>\n",
       "      <td></td>\n",
       "      <td></td>\n",
       "      <td></td>\n",
       "    </tr>\n",
       "    <tr>\n",
       "      <th>1</th>\n",
       "      <td>2200</td>\n",
       "      <td>1757</td>\n",
       "      <td>1757</td>\n",
       "      <td>15-00081</td>\n",
       "      <td>BA2415</td>\n",
       "      <td>aq-BA2415R</td>\n",
       "      <td>e9332d30-3f0f-422a-abb2-d10d9a1e44f7.rna_seq.g...</td>\n",
       "      <td>443</td>\n",
       "      <td>Dead</td>\n",
       "      <td>Dead</td>\n",
       "      <td>...</td>\n",
       "      <td></td>\n",
       "      <td></td>\n",
       "      <td></td>\n",
       "      <td></td>\n",
       "      <td></td>\n",
       "      <td></td>\n",
       "      <td></td>\n",
       "      <td></td>\n",
       "      <td></td>\n",
       "      <td></td>\n",
       "    </tr>\n",
       "    <tr>\n",
       "      <th>2</th>\n",
       "      <td>2299</td>\n",
       "      <td></td>\n",
       "      <td>4349</td>\n",
       "      <td>17-00047</td>\n",
       "      <td>BA3034</td>\n",
       "      <td>aq-BA3034R</td>\n",
       "      <td>fae6404d-68c4-4e13-ade2-dc0908f2c074.rna_seq.g...</td>\n",
       "      <td>Healthy, Individual BM MNC</td>\n",
       "      <td>Healthy, Individual BM MNC</td>\n",
       "      <td></td>\n",
       "      <td>...</td>\n",
       "      <td></td>\n",
       "      <td></td>\n",
       "      <td></td>\n",
       "      <td></td>\n",
       "      <td></td>\n",
       "      <td></td>\n",
       "      <td></td>\n",
       "      <td></td>\n",
       "      <td></td>\n",
       "      <td></td>\n",
       "    </tr>\n",
       "    <tr>\n",
       "      <th>3</th>\n",
       "      <td>2448</td>\n",
       "      <td>1646</td>\n",
       "      <td>1646</td>\n",
       "      <td>14-00425</td>\n",
       "      <td>BA2811</td>\n",
       "      <td>aq-BA2811R</td>\n",
       "      <td>ce88002b-b22a-452a-a1d3-b8395dc118f1.rna_seq.g...</td>\n",
       "      <td>461</td>\n",
       "      <td>Alive</td>\n",
       "      <td>Alive</td>\n",
       "      <td>...</td>\n",
       "      <td></td>\n",
       "      <td></td>\n",
       "      <td></td>\n",
       "      <td></td>\n",
       "      <td></td>\n",
       "      <td>negative</td>\n",
       "      <td></td>\n",
       "      <td></td>\n",
       "      <td>negative</td>\n",
       "      <td></td>\n",
       "    </tr>\n",
       "    <tr>\n",
       "      <th>4</th>\n",
       "      <td>2093</td>\n",
       "      <td></td>\n",
       "      <td>4350</td>\n",
       "      <td>17-00048</td>\n",
       "      <td>BA2607</td>\n",
       "      <td>aq-BA2607R</td>\n",
       "      <td>7824c0f0-85c6-44e0-9162-8865c9e1cb74.rna_seq.g...</td>\n",
       "      <td>Healthy, Individual BM MNC</td>\n",
       "      <td>Healthy, Individual BM MNC</td>\n",
       "      <td></td>\n",
       "      <td>...</td>\n",
       "      <td></td>\n",
       "      <td></td>\n",
       "      <td></td>\n",
       "      <td></td>\n",
       "      <td></td>\n",
       "      <td></td>\n",
       "      <td></td>\n",
       "      <td></td>\n",
       "      <td></td>\n",
       "      <td></td>\n",
       "    </tr>\n",
       "  </tbody>\n",
       "</table>\n",
       "<p>5 rows × 248 columns</p>\n",
       "</div>"
      ],
      "text/plain": [
       "  PatientID PatientId LLS_PatientID LLS_SampleID SampleID entity_submitter_id  \\\n",
       "0      2262      1981          1981     15-00147   BA3025          aq-BA3025R   \n",
       "1      2200      1757          1757     15-00081   BA2415          aq-BA2415R   \n",
       "2      2299                    4349     17-00047   BA3034          aq-BA3034R   \n",
       "3      2448      1646          1646     14-00425   BA2811          aq-BA2811R   \n",
       "4      2093                    4350     17-00048   BA2607          aq-BA2607R   \n",
       "\n",
       "                                           file_name  \\\n",
       "0  90e79303-22a7-4c03-ad58-a41af7af237e.rna_seq.g...   \n",
       "1  e9332d30-3f0f-422a-abb2-d10d9a1e44f7.rna_seq.g...   \n",
       "2  fae6404d-68c4-4e13-ade2-dc0908f2c074.rna_seq.g...   \n",
       "3  ce88002b-b22a-452a-a1d3-b8395dc118f1.rna_seq.g...   \n",
       "4  7824c0f0-85c6-44e0-9162-8865c9e1cb74.rna_seq.g...   \n",
       "\n",
       "       OverallSurvival_VIZOME          VitalStatus_VIZOME  \\\n",
       "0                         843                        Dead   \n",
       "1                         443                        Dead   \n",
       "2  Healthy, Individual BM MNC  Healthy, Individual BM MNC   \n",
       "3                         461                       Alive   \n",
       "4  Healthy, Individual BM MNC  Healthy, Individual BM MNC   \n",
       "\n",
       "  vitalStatus_SuppTable  ... STAG2_SuppTable STAT3_SuppTable SUZ12_SuppTable  \\\n",
       "0                  Dead  ...                                                   \n",
       "1                  Dead  ...                                                   \n",
       "2                        ...                                                   \n",
       "3                 Alive  ...                                                   \n",
       "4                        ...                                                   \n",
       "\n",
       "  TCL1A_SuppTable TET2_SuppTable TP53_SuppTable TYK2_SuppTable  \\\n",
       "0                                                                \n",
       "1                                                                \n",
       "2                                                                \n",
       "3                                      negative                  \n",
       "4                                                                \n",
       "\n",
       "  U2AF1_SuppTable WT1_SuppTable  ZRSR2_SuppTable  \n",
       "0                                                 \n",
       "1                                                 \n",
       "2                                                 \n",
       "3                      negative                   \n",
       "4                                                 \n",
       "\n",
       "[5 rows x 248 columns]"
      ]
     },
     "execution_count": 4,
     "metadata": {},
     "output_type": "execute_result"
    },
    {
     "data": {
      "text/plain": [
       "(510, 248)"
      ]
     },
     "execution_count": 4,
     "metadata": {},
     "output_type": "execute_result"
    }
   ],
   "source": [
    "# [{print(f)}for file in TARGET.joinpath(\"SequencingDataMatrix/\").iterdir()]\n",
    "\n",
    "manifest_file = BEAT_AML.joinpath(\"RNA/mRNAseq/analysis/2020.06.20_GDC_Download/BEAT_AML_STAR-aligner_GCD_Data_Manifest_with_CDE.csv\")\n",
    "\n",
    "\n",
    "manifest = pd.read_csv(manifest_file, \n",
    "                       engine='python')\n",
    "manifest.fillna(value=\"\",inplace=True) \n",
    "manifest.head()\n",
    "manifest.shape"
   ]
  },
  {
   "cell_type": "code",
   "execution_count": 5,
   "metadata": {},
   "outputs": [
    {
     "data": {
      "text/plain": [
       "False    510\n",
       "Name: SampleID, dtype: int64"
      ]
     },
     "execution_count": 5,
     "metadata": {},
     "output_type": "execute_result"
    }
   ],
   "source": [
    "# dir(manifest.SampleID)\n",
    "manifest.SampleID.duplicated().value_counts() #no duplicates "
   ]
  },
  {
   "cell_type": "markdown",
   "metadata": {},
   "source": [
    "# 2. Run the Sample Sheet Script"
   ]
  },
  {
   "cell_type": "code",
   "execution_count": 6,
   "metadata": {},
   "outputs": [
    {
     "data": {
      "text/plain": [
       "\u001b[0;31mSignature:\u001b[0m\n",
       "\u001b[0mcreate_sample_sheet\u001b[0m\u001b[0;34m.\u001b[0m\u001b[0mcreate_sample_sheet\u001b[0m\u001b[0;34m(\u001b[0m\u001b[0;34m\u001b[0m\n",
       "\u001b[0;34m\u001b[0m    \u001b[0mbucket_name\u001b[0m\u001b[0;34m,\u001b[0m\u001b[0;34m\u001b[0m\n",
       "\u001b[0;34m\u001b[0m    \u001b[0mprefix_name\u001b[0m\u001b[0;34m,\u001b[0m\u001b[0;34m\u001b[0m\n",
       "\u001b[0;34m\u001b[0m    \u001b[0mfiletype\u001b[0m\u001b[0;34m=\u001b[0m\u001b[0;34m'fastq'\u001b[0m\u001b[0;34m,\u001b[0m\u001b[0;34m\u001b[0m\n",
       "\u001b[0;34m\u001b[0m    \u001b[0msamples\u001b[0m\u001b[0;34m=\u001b[0m\u001b[0;34m''\u001b[0m\u001b[0;34m,\u001b[0m\u001b[0;34m\u001b[0m\n",
       "\u001b[0;34m\u001b[0m    \u001b[0mfilename\u001b[0m\u001b[0;34m=\u001b[0m\u001b[0;34m'sample_sheet.txt'\u001b[0m\u001b[0;34m,\u001b[0m\u001b[0;34m\u001b[0m\n",
       "\u001b[0;34m\u001b[0m    \u001b[0mwrite\u001b[0m\u001b[0;34m=\u001b[0m\u001b[0;32mTrue\u001b[0m\u001b[0;34m,\u001b[0m\u001b[0;34m\u001b[0m\n",
       "\u001b[0;34m\u001b[0m\u001b[0;34m)\u001b[0m\u001b[0;34m\u001b[0m\u001b[0;34m\u001b[0m\u001b[0m\n",
       "\u001b[0;31mDocstring:\u001b[0m\n",
       "A function to query an S3 bucket, list its objects, and filter the files by sample IDs. \n",
       "\n",
       "bucket_name: is a string. Example: \"fh-pi-my-bucket\"\n",
       "prefix_name: is a string. Need trailing slash. Example: \"SR/myfiles/\"\n",
       "filetype: is a srtring. One of \"fastq\" or \"bam\"\n",
       "\u001b[0;31mFile:\u001b[0m      ~/batch_pipeline/python_code/create_sample_sheet.py\n",
       "\u001b[0;31mType:\u001b[0m      function\n"
      ]
     },
     "metadata": {},
     "output_type": "display_data"
    }
   ],
   "source": [
    "bucket=\"fh-pi-meshinchi-s\"\n",
    "prefix=\"SR/BEAT_AML/BAM/\"\n",
    "?create_sample_sheet.create_sample_sheet\n",
    "# ?create_sample_sheet.create_presigned_url"
   ]
  },
  {
   "cell_type": "code",
   "execution_count": 7,
   "metadata": {},
   "outputs": [
    {
     "data": {
      "text/plain": [
       "str"
      ]
     },
     "execution_count": 7,
     "metadata": {},
     "output_type": "execute_result"
    }
   ],
   "source": [
    "#create an input string for filtering the manifest file\n",
    "samples = \" \".join(manifest.SampleID.tolist())\n",
    "type(samples)"
   ]
  },
  {
   "cell_type": "code",
   "execution_count": null,
   "metadata": {},
   "outputs": [],
   "source": [
    "create_sample_sheet.create_sample_sheet(bucket_name=bucket, \n",
    "                                        prefix_name=prefix,\n",
    "                                        filetype=\"bam\",  \n",
    "                                        samples=samples,\n",
    "                                        filename=\"../sample_sheets/BEAT_AML_sample_sheet.txt\")"
   ]
  }
 ],
 "metadata": {
  "kernelspec": {
   "display_name": "Python 3",
   "language": "python",
   "name": "python3"
  },
  "language_info": {
   "codemirror_mode": {
    "name": "ipython",
    "version": 3
   },
   "file_extension": ".py",
   "mimetype": "text/x-python",
   "name": "python",
   "nbconvert_exporter": "python",
   "pygments_lexer": "ipython3",
   "version": "3.7.9"
  }
 },
 "nbformat": 4,
 "nbformat_minor": 4
}
