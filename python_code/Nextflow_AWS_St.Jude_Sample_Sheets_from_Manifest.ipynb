{
 "cells": [
  {
   "cell_type": "markdown",
   "metadata": {},
   "source": [
    "# Create File Manifest for St. Jude Datasets"
   ]
  },
  {
   "cell_type": "markdown",
   "metadata": {},
   "source": [
    "### Jenny Smith \n",
    "### Sept. 24, 2020"
   ]
  },
  {
   "cell_type": "code",
   "execution_count": 3,
   "metadata": {},
   "outputs": [],
   "source": [
    "import os\n",
    "import pathlib\n",
    "import socket\n",
    "import numpy as np\n",
    "import pandas as pd\n",
    "import re\n",
    "import create_sample_sheet\n",
    "\n",
    "from IPython.core.interactiveshell import InteractiveShell\n",
    "InteractiveShell.ast_node_interactivity = \"all\""
   ]
  },
  {
   "cell_type": "code",
   "execution_count": 2,
   "metadata": {},
   "outputs": [],
   "source": [
    "# ?re.findall"
   ]
  },
  {
   "cell_type": "code",
   "execution_count": 21,
   "metadata": {},
   "outputs": [
    {
     "data": {
      "text/plain": [
       "PosixPath('/Users/work/fast_drive/workingDir/TARGET/AML_TARGET')"
      ]
     },
     "execution_count": 21,
     "metadata": {},
     "output_type": "execute_result"
    }
   ],
   "source": [
    "# https://realpython.com/python-pathlib/\n",
    "host = socket.gethostname()\n",
    "\n",
    "if re.search(\"MacBook|mbp.+fhcrc.org\", host):\n",
    "    TARGET=\"/Users/work/fast_drive/workingDir/TARGET/AML_TARGET/\"\n",
    "\n",
    "elif re.search(\"gizmo|rhino\", host):\n",
    "    TARGET=\"/fh/fast/meshinchi_s/workingDir/TARGET/AML_TARGET/\"\n",
    "\n",
    "TARGET=pathlib.Path(TARGET)\n",
    "TARGET"
   ]
  },
  {
   "cell_type": "code",
   "execution_count": 22,
   "metadata": {},
   "outputs": [
    {
     "data": {
      "text/plain": [
       "PurePosixPath('/Users/work/STAR-fusion-NF/python_code')"
      ]
     },
     "execution_count": 22,
     "metadata": {},
     "output_type": "execute_result"
    },
    {
     "data": {
      "text/plain": [
       "PurePosixPath('/Users/work/STAR-fusion-NF')"
      ]
     },
     "execution_count": 22,
     "metadata": {},
     "output_type": "execute_result"
    }
   ],
   "source": [
    "p = pathlib.PurePosixPath(pathlib.Path().cwd())\n",
    "p\n",
    "p.parent"
   ]
  },
  {
   "cell_type": "markdown",
   "metadata": {},
   "source": [
    "# 1. Read in the Manifest file"
   ]
  },
  {
   "cell_type": "code",
   "execution_count": 6,
   "metadata": {},
   "outputs": [
    {
     "data": {
      "text/html": [
       "<div>\n",
       "<style scoped>\n",
       "    .dataframe tbody tr th:only-of-type {\n",
       "        vertical-align: middle;\n",
       "    }\n",
       "\n",
       "    .dataframe tbody tr th {\n",
       "        vertical-align: top;\n",
       "    }\n",
       "\n",
       "    .dataframe thead th {\n",
       "        text-align: right;\n",
       "    }\n",
       "</style>\n",
       "<table border=\"1\" class=\"dataframe\">\n",
       "  <thead>\n",
       "    <tr style=\"text-align: right;\">\n",
       "      <th></th>\n",
       "      <th>subject_name</th>\n",
       "      <th>sample_name</th>\n",
       "      <th>sample_type</th>\n",
       "      <th>sequencing_type</th>\n",
       "      <th>file_type</th>\n",
       "      <th>description</th>\n",
       "      <th>sj_diseases</th>\n",
       "      <th>sj_datasets</th>\n",
       "      <th>sj_pmid_accessions</th>\n",
       "      <th>sj_ega_accessions</th>\n",
       "      <th>sj_dataset_accessions</th>\n",
       "      <th>sj_embargo_date</th>\n",
       "      <th>attr_age_at_diagnosis</th>\n",
       "      <th>attr_diagnosis</th>\n",
       "      <th>attr_ethnicity</th>\n",
       "      <th>attr_race</th>\n",
       "      <th>attr_sex</th>\n",
       "    </tr>\n",
       "  </thead>\n",
       "  <tbody>\n",
       "    <tr>\n",
       "      <th>0</th>\n",
       "      <td>SJAML030025</td>\n",
       "      <td>SJAML030025_D1</td>\n",
       "      <td>Diagnosis</td>\n",
       "      <td>RNA-Seq</td>\n",
       "      <td>bam</td>\n",
       "      <td>NaN</td>\n",
       "      <td>AML</td>\n",
       "      <td>Clinical Pilot</td>\n",
       "      <td>NaN</td>\n",
       "      <td>NaN</td>\n",
       "      <td>SJC-DS-1003</td>\n",
       "      <td>2019,Jan 15</td>\n",
       "      <td>NaN</td>\n",
       "      <td>NaN</td>\n",
       "      <td>NaN</td>\n",
       "      <td>NaN</td>\n",
       "      <td>NaN</td>\n",
       "    </tr>\n",
       "    <tr>\n",
       "      <th>1</th>\n",
       "      <td>SJAML030004</td>\n",
       "      <td>SJAML030004_D1</td>\n",
       "      <td>Diagnosis</td>\n",
       "      <td>RNA-Seq</td>\n",
       "      <td>bam</td>\n",
       "      <td>NaN</td>\n",
       "      <td>AML</td>\n",
       "      <td>Clinical Pilot</td>\n",
       "      <td>NaN</td>\n",
       "      <td>NaN</td>\n",
       "      <td>SJC-DS-1003</td>\n",
       "      <td>2019,Jan 15</td>\n",
       "      <td>NaN</td>\n",
       "      <td>NaN</td>\n",
       "      <td>NaN</td>\n",
       "      <td>NaN</td>\n",
       "      <td>NaN</td>\n",
       "    </tr>\n",
       "    <tr>\n",
       "      <th>2</th>\n",
       "      <td>SJAML001417</td>\n",
       "      <td>SJAML001417_D1</td>\n",
       "      <td>Diagnosis</td>\n",
       "      <td>RNA-Seq</td>\n",
       "      <td>bam</td>\n",
       "      <td>NaN</td>\n",
       "      <td>AML</td>\n",
       "      <td>Clinical Pilot</td>\n",
       "      <td>NaN</td>\n",
       "      <td>NaN</td>\n",
       "      <td>SJC-DS-1003</td>\n",
       "      <td>2019,Jan 15</td>\n",
       "      <td>NaN</td>\n",
       "      <td>NaN</td>\n",
       "      <td>NaN</td>\n",
       "      <td>NaN</td>\n",
       "      <td>NaN</td>\n",
       "    </tr>\n",
       "    <tr>\n",
       "      <th>3</th>\n",
       "      <td>SJAML030006</td>\n",
       "      <td>SJAML030006_D1</td>\n",
       "      <td>Diagnosis</td>\n",
       "      <td>RNA-Seq</td>\n",
       "      <td>bam</td>\n",
       "      <td>NaN</td>\n",
       "      <td>AML</td>\n",
       "      <td>Clinical Pilot</td>\n",
       "      <td>NaN</td>\n",
       "      <td>NaN</td>\n",
       "      <td>SJC-DS-1003</td>\n",
       "      <td>2019,Jan 15</td>\n",
       "      <td>NaN</td>\n",
       "      <td>NaN</td>\n",
       "      <td>NaN</td>\n",
       "      <td>NaN</td>\n",
       "      <td>NaN</td>\n",
       "    </tr>\n",
       "    <tr>\n",
       "      <th>4</th>\n",
       "      <td>SJAML030023</td>\n",
       "      <td>SJAML030023_D1</td>\n",
       "      <td>Diagnosis</td>\n",
       "      <td>RNA-Seq</td>\n",
       "      <td>bam</td>\n",
       "      <td>NaN</td>\n",
       "      <td>AML</td>\n",
       "      <td>Clinical Pilot</td>\n",
       "      <td>NaN</td>\n",
       "      <td>NaN</td>\n",
       "      <td>SJC-DS-1003</td>\n",
       "      <td>2019,Jan 15</td>\n",
       "      <td>NaN</td>\n",
       "      <td>NaN</td>\n",
       "      <td>NaN</td>\n",
       "      <td>NaN</td>\n",
       "      <td>NaN</td>\n",
       "    </tr>\n",
       "  </tbody>\n",
       "</table>\n",
       "</div>"
      ],
      "text/plain": [
       "  subject_name     sample_name sample_type sequencing_type file_type  \\\n",
       "0  SJAML030025  SJAML030025_D1   Diagnosis         RNA-Seq       bam   \n",
       "1  SJAML030004  SJAML030004_D1   Diagnosis         RNA-Seq       bam   \n",
       "2  SJAML001417  SJAML001417_D1   Diagnosis         RNA-Seq       bam   \n",
       "3  SJAML030006  SJAML030006_D1   Diagnosis         RNA-Seq       bam   \n",
       "4  SJAML030023  SJAML030023_D1   Diagnosis         RNA-Seq       bam   \n",
       "\n",
       "   description sj_diseases     sj_datasets  sj_pmid_accessions  \\\n",
       "0          NaN         AML  Clinical Pilot                 NaN   \n",
       "1          NaN         AML  Clinical Pilot                 NaN   \n",
       "2          NaN         AML  Clinical Pilot                 NaN   \n",
       "3          NaN         AML  Clinical Pilot                 NaN   \n",
       "4          NaN         AML  Clinical Pilot                 NaN   \n",
       "\n",
       "  sj_ega_accessions sj_dataset_accessions sj_embargo_date  \\\n",
       "0               NaN           SJC-DS-1003     2019,Jan 15   \n",
       "1               NaN           SJC-DS-1003     2019,Jan 15   \n",
       "2               NaN           SJC-DS-1003     2019,Jan 15   \n",
       "3               NaN           SJC-DS-1003     2019,Jan 15   \n",
       "4               NaN           SJC-DS-1003     2019,Jan 15   \n",
       "\n",
       "   attr_age_at_diagnosis attr_diagnosis attr_ethnicity attr_race attr_sex  \n",
       "0                    NaN            NaN            NaN       NaN      NaN  \n",
       "1                    NaN            NaN            NaN       NaN      NaN  \n",
       "2                    NaN            NaN            NaN       NaN      NaN  \n",
       "3                    NaN            NaN            NaN       NaN      NaN  \n",
       "4                    NaN            NaN            NaN       NaN      NaN  "
      ]
     },
     "execution_count": 6,
     "metadata": {},
     "output_type": "execute_result"
    },
    {
     "data": {
      "text/plain": [
       "(657, 17)"
      ]
     },
     "execution_count": 6,
     "metadata": {},
     "output_type": "execute_result"
    }
   ],
   "source": [
    "# [{print(f)}for file in TARGET.joinpath(\"SequencingDataMatrix/\").iterdir()]\n",
    "\n",
    "manifest_file = TARGET.joinpath(\"SequencingDataMatrix/St.Jude_AML_ALL_RNAseq_DUA_Manifest.csv\")\n",
    "\n",
    "\n",
    "manifest = pd.read_csv(manifest_file, \n",
    "                       engine='python')\n",
    "\n",
    "manifest.head()\n",
    "manifest.shape"
   ]
  },
  {
   "cell_type": "code",
   "execution_count": 7,
   "metadata": {},
   "outputs": [
    {
     "data": {
      "text/plain": [
       "BALL     218\n",
       "AMLM     121\n",
       "ETV       56\n",
       "INF       47\n",
       "CBF       45\n",
       "AML       33\n",
       "ERG       31\n",
       "PHALL     26\n",
       "HYPO      24\n",
       "MLL       20\n",
       "TALL      14\n",
       "E2A       10\n",
       "HM         7\n",
       "HYPER      3\n",
       "DOWN       1\n",
       "PML        1\n",
       "Name: sj_diseases, dtype: int64"
      ]
     },
     "execution_count": 7,
     "metadata": {},
     "output_type": "execute_result"
    }
   ],
   "source": [
    "#table for the different Batchs \n",
    "manifest.sj_diseases.value_counts()"
   ]
  },
  {
   "cell_type": "code",
   "execution_count": 16,
   "metadata": {},
   "outputs": [
    {
     "data": {
      "text/plain": [
       "True"
      ]
     },
     "execution_count": 16,
     "metadata": {},
     "output_type": "execute_result"
    }
   ],
   "source": [
    "samples = manifest.sample_name.to_list()\n",
    "len(samples) == len(set(samples)) #check for duplicates\n",
    "samples = \" \".join(samples)\n",
    "\n",
    "# type(samples)"
   ]
  },
  {
   "cell_type": "markdown",
   "metadata": {},
   "source": [
    "# 2. Run the Sample Sheet Script"
   ]
  },
  {
   "cell_type": "code",
   "execution_count": 30,
   "metadata": {},
   "outputs": [],
   "source": [
    "bucket = \"fh-pi-meshinchi-s\"\n",
    "prefix = \"SR/dnanexus_picard_fq2/\"\n",
    "filename = \"st.jude_sample_sheet.txt\"\n",
    "fname = str(p.parent.joinpath(\"sample_sheets/\",filename))"
   ]
  },
  {
   "cell_type": "code",
   "execution_count": 32,
   "metadata": {},
   "outputs": [
    {
     "data": {
      "text/plain": [
       "\u001b[0;31mSignature:\u001b[0m\n",
       "\u001b[0mcreate_sample_sheet\u001b[0m\u001b[0;34m.\u001b[0m\u001b[0mcreate_sample_sheet\u001b[0m\u001b[0;34m(\u001b[0m\u001b[0;34m\u001b[0m\n",
       "\u001b[0;34m\u001b[0m    \u001b[0mbucket_name\u001b[0m\u001b[0;34m,\u001b[0m\u001b[0;34m\u001b[0m\n",
       "\u001b[0;34m\u001b[0m    \u001b[0mprefix_name\u001b[0m\u001b[0;34m,\u001b[0m\u001b[0;34m\u001b[0m\n",
       "\u001b[0;34m\u001b[0m    \u001b[0mfiletype\u001b[0m\u001b[0;34m=\u001b[0m\u001b[0;34m'fastq'\u001b[0m\u001b[0;34m,\u001b[0m\u001b[0;34m\u001b[0m\n",
       "\u001b[0;34m\u001b[0m    \u001b[0msamples\u001b[0m\u001b[0;34m=\u001b[0m\u001b[0;32mNone\u001b[0m\u001b[0;34m,\u001b[0m\u001b[0;34m\u001b[0m\n",
       "\u001b[0;34m\u001b[0m    \u001b[0mfilename\u001b[0m\u001b[0;34m=\u001b[0m\u001b[0;34m'sample_sheet.txt'\u001b[0m\u001b[0;34m,\u001b[0m\u001b[0;34m\u001b[0m\n",
       "\u001b[0;34m\u001b[0m    \u001b[0mwrite\u001b[0m\u001b[0;34m=\u001b[0m\u001b[0;32mTrue\u001b[0m\u001b[0;34m,\u001b[0m\u001b[0;34m\u001b[0m\n",
       "\u001b[0;34m\u001b[0m\u001b[0;34m)\u001b[0m\u001b[0;34m\u001b[0m\u001b[0;34m\u001b[0m\u001b[0m\n",
       "\u001b[0;31mDocstring:\u001b[0m\n",
       "A function to query an S3 bucket, list its objects, and filter the files by sample IDs. \n",
       "The bucket_name is a string. Example: \"fh-pi-my-bucket\"\n",
       "The prefix_name is a string. Need trailing slash. Example: \"SR/myfiles/\"\n",
       "\u001b[0;31mFile:\u001b[0m      ~/STAR-fusion-NF/python_code/create_sample_sheet.py\n",
       "\u001b[0;31mType:\u001b[0m      function\n"
      ]
     },
     "metadata": {},
     "output_type": "display_data"
    }
   ],
   "source": [
    "?create_sample_sheet.create_sample_sheet"
   ]
  },
  {
   "cell_type": "code",
   "execution_count": 31,
   "metadata": {},
   "outputs": [
    {
     "name": "stdout",
     "output_type": "stream",
     "text": [
      "There are 512 Fastq files.\n",
      "Finished writing 504 records to file: /Users/work/STAR-fusion-NF/sample_sheets/st.jude_sample_sheet.txt\n"
     ]
    }
   ],
   "source": [
    "#There are 512 Fastq files.\n",
    "create_sample_sheet.create_sample_sheet(bucket_name=bucket,\n",
    "                                        prefix_name=prefix,\n",
    "                                        samples=samples, \n",
    "                                        filename=fname)\n"
   ]
  }
 ],
 "metadata": {
  "kernelspec": {
   "display_name": "Python 3",
   "language": "python",
   "name": "python3"
  },
  "language_info": {
   "codemirror_mode": {
    "name": "ipython",
    "version": 3
   },
   "file_extension": ".py",
   "mimetype": "text/x-python",
   "name": "python",
   "nbconvert_exporter": "python",
   "pygments_lexer": "ipython3",
   "version": "3.7.9"
  }
 },
 "nbformat": 4,
 "nbformat_minor": 4
}
